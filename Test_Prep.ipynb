{
  "nbformat": 4,
  "nbformat_minor": 0,
  "metadata": {
    "colab": {
      "provenance": [],
      "authorship_tag": "ABX9TyMqUc5UeuBKobnR0VXHYpoa",
      "include_colab_link": true
    },
    "kernelspec": {
      "name": "python3",
      "display_name": "Python 3"
    },
    "language_info": {
      "name": "python"
    }
  },
  "cells": [
    {
      "cell_type": "markdown",
      "metadata": {
        "id": "view-in-github",
        "colab_type": "text"
      },
      "source": [
        "<a href=\"https://colab.research.google.com/github/rdonald03/cap-comp215/blob/main/Test_Prep.ipynb\" target=\"_parent\"><img src=\"https://colab.research.google.com/assets/colab-badge.svg\" alt=\"Open In Colab\"/></a>"
      ]
    },
    {
      "cell_type": "code",
      "source": [
        "import math\n",
        "import statistics\n",
        "import random\n",
        "import matplotlib.pyplot as plt\n",
        "import numpy as np\n",
        "import networkx as nx\n"
      ],
      "metadata": {
        "id": "rp7T0fKQ24VX"
      },
      "execution_count": 2,
      "outputs": []
    },
    {
      "cell_type": "markdown",
      "source": [
        "#Dictionary stuff + Generators\n"
      ],
      "metadata": {
        "id": "J8O4W52tyGPI"
      }
    },
    {
      "cell_type": "code",
      "execution_count": 3,
      "metadata": {
        "id": "IFFsZkoiyApT"
      },
      "outputs": [],
      "source": [
        "#Lab 3 has some good stuff on how to do dictionary bs\n",
        "\n",
        "#Generators\n",
        "\n",
        "#Are faster than list comprehension\n",
        "\n",
        "#list comp\n",
        "list_comp = [i**3 for i in range (10)]\n",
        "#returns a list\n",
        "\n",
        "generator = (i**2 for i in range (10))\n",
        "#returns a generator, can use a for loop to iterate, or next()\n",
        "\n"
      ]
    },
    {
      "cell_type": "markdown",
      "source": [
        "#List stuff/Comprehension"
      ],
      "metadata": {
        "id": "WXZJAVMlyHC7"
      }
    },
    {
      "cell_type": "code",
      "source": [
        "#Accumulator\n",
        "def hazard_detect ():\n",
        "  q = 0\n",
        "  for i in neos:\n",
        "    if i ['is_potentially_hazardous_asteroid'] == True:\n",
        "      q = q + 1\n",
        "    else:\n",
        "      q = q + 0\n",
        "  return q\n",
        "\n",
        "#List comprehension\n",
        "def hazard_detect (neos):\n",
        "  x = len([i for i in neos if i['is_potentially_hazardous_asteroid'] == True])\n",
        "  return x \n"
      ],
      "metadata": {
        "id": "2OtqcMRDyJNI"
      },
      "execution_count": 4,
      "outputs": []
    },
    {
      "cell_type": "markdown",
      "source": [
        "#Graphing"
      ],
      "metadata": {
        "id": "rQpitJudyJp2"
      }
    },
    {
      "cell_type": "code",
      "source": [
        "#Graph traversal algorithm\n",
        "def reachable_nodes(graph, start):\n",
        "    \"\"\" return the set of nodes that are reachable from the given start node\"\"\"\n",
        "    seen = set() # Initialize a set to store visited nodes\n",
        "    stack = [start] # Initialize a stack to store nodes to visit\n",
        "    \n",
        "    while stack: # While there are nodes to visit\n",
        "        node = stack.pop() # Get the next node to visit from the stack\n",
        "        \n",
        "        if node not in seen: # If the node hasn't been visited yet\n",
        "            seen.add(node) # Mark the current node as visited\n",
        "            stack.extend(graph.neighbors(node)) # Add unvisited neighbors to the stack\n",
        "            \n",
        "    return seen # Return the set of visited nodes\n",
        "\n",
        "\n",
        "\n",
        "\n",
        "\n",
        "#Plotting graphs\n",
        "\n",
        "Example = nx.DiGraph() #Creates the graphs, don't confuse with plot\n",
        "\"\"\"Node creation\"\"\"\n",
        "Example.add_node(\"1\")\n",
        "Example.add_node(\"2\")\n",
        "Example.add_node(\"3\")\n",
        "Example.add_node(\"4\")\n",
        "\"\"\"Edge creation\"\"\"\n",
        "Example.add_edge('1', '2')\n",
        "Example.add_edge('2', '4')\n",
        "Example.add_edge('3', '1')\n",
        "Example.add_edge('1', '3')\n",
        "\n",
        "#Circular just makes circurlar, nx.draw () if not circular\n",
        "nx.draw_circular(Example,                     \n",
        "                 node_color = '#bbffff',\n",
        "                 node_size=2000,\n",
        "                 with_labels=True)\n",
        "plt.axis ('equal')\n",
        "plt.show ()\n"
      ],
      "metadata": {
        "colab": {
          "base_uri": "https://localhost:8080/",
          "height": 319
        },
        "id": "1EUME4uFyJ-Z",
        "outputId": "6f60438b-8e49-4630-c572-62e26da5e204"
      },
      "execution_count": 15,
      "outputs": [
        {
          "output_type": "display_data",
          "data": {
            "text/plain": [
              "<Figure size 432x288 with 1 Axes>"
            ],
            "image/png": "[encoded data removed]"
          },
          "metadata": {}
        }
      ]
    },
    {
      "cell_type": "markdown",
      "source": [
        "#1d arrays'"
      ],
      "metadata": {
        "id": "P7Dlh5u_yKNH"
      }
    },
    {
      "cell_type": "code",
      "source": [
        "og_list = [1,2,3,4,5] #remember that array's can only be one data type, so if list had a mix, wouldn't work\n",
        "\n",
        "array = np.array (og_list)\n",
        "\n",
        "\n",
        "print (array[3])\n",
        "print (array * 2)\n",
        "print (array + 1)\n",
        "\n",
        "print (og_list * 2) #see how it's different with a list than array\n",
        "\n",
        "\n",
        "print (np.max (array))\n",
        "print (np.min (array))\n",
        "print (np.mean (array))\n",
        "print (np.std(array))"
      ],
      "metadata": {
        "colab": {
          "base_uri": "https://localhost:8080/"
        },
        "id": "kTkOh7wOyKeI",
        "outputId": "8784d327-932e-46bd-f0df-a87386013f1e"
      },
      "execution_count": 5,
      "outputs": [
        {
          "output_type": "stream",
          "name": "stdout",
          "text": [
            "4\n",
            "[ 2  4  6  8 10]\n",
            "[2 3 4 5 6]\n",
            "[1, 2, 3, 4, 5, 1, 2, 3, 4, 5]\n",
            "5\n",
            "1\n",
            "3.0\n",
            "1.4142135623730951\n"
          ]
        }
      ]
    },
    {
      "cell_type": "markdown",
      "source": [
        "#Algorithms"
      ],
      "metadata": {
        "id": "Gcq4TFrwyKu1"
      }
    },
    {
      "cell_type": "code",
      "source": [
        "from re import X\n",
        "#Correlation/ Sliding dot-product\n",
        "\n",
        "def dot_product(a, w):\n",
        "    \"\"\" return the dot product of numpy.array a and vector w, to length of w \"\"\"\n",
        "    return sum(a * w)   # numpy.array defines multiplication as vector multiplication\n",
        "assert dot_product(np.array([0,1,1]), [4,2,1]) == 3\n",
        "\n",
        "def sliding_dot_product(row, window):\n",
        "    \"\"\" Compute rule indexes from dot product at each window pos. \"\"\"\n",
        "    N = len(window)\n",
        "    cols = len(row)-N+1\n",
        "    c = [ dot_product(row[k:k+N], window) for k in range(cols) ]\n",
        "    return np.array(c)\n",
        "assert all( sliding_dot_product(np.array([1,1,0,0,1,0,0,0]), [4,2,1]) == [6, 4, 1, 2, 4, 0] )\n",
        "\n",
        "row = np.array([1,1,0,0,1,0,0,0])\n",
        "window = [4,2,1]\n",
        "print('Indexes to choose next state for {row} are: {next}'.format(\n",
        "    row=row, next=sliding_dot_product(row, window)\n",
        "))\n",
        "\n",
        "#or in more simple way\n",
        "\n",
        "POWERS_OF_2 = np.array((4, 2, 1))\n",
        "\n",
        "def rule_indexes(state): #State is just the rule we put in such as 1,1,0,0,1,0,0,0\n",
        "    \"\"\" Return vector of rule indexes - one index for each 3-cell neighbourhood in the CA state vector. \"\"\"\n",
        "    # numpy's version of the \"sliding dot product\" algorithm;  \"pad\" ends of state array with extra 0 cell to mitigate edge effects\n",
        "    return np.correlate(np.pad(state, 1, mode='constant'), POWERS_OF_2, mode='valid')\n",
        "\n",
        "#Matrix operators\n",
        "\n",
        "\n",
        "x = np.arange(0,10,1)\n",
        "x\n",
        "\n",
        "y = np.linspace(0,1,21)\n",
        "y\n",
        "\n",
        "\n",
        "\n"
      ],
      "metadata": {
        "colab": {
          "base_uri": "https://localhost:8080/"
        },
        "id": "_VNVFaDJyK-9",
        "outputId": "0c817a09-be43-4d67-8277-80cb56b90ff4"
      },
      "execution_count": 17,
      "outputs": [
        {
          "output_type": "stream",
          "name": "stdout",
          "text": [
            "Indexes to choose next state for [1 1 0 0 1 0 0 0] are: [6 4 1 2 4 0]\n"
          ]
        },
        {
          "output_type": "execute_result",
          "data": {
            "text/plain": [
              "array([0, 1, 2, 3, 4, 5, 6, 7, 8, 9])"
            ]
          },
          "metadata": {},
          "execution_count": 17
        }
      ]
    },
    {
      "cell_type": "markdown",
      "source": [
        "#Big O analysis"
      ],
      "metadata": {
        "id": "eUf6C5YGyLSN"
      }
    },
    {
      "cell_type": "code",
      "source": [
        "List = [1,2,3,4,5,6,7,8,9,10]\n",
        "\n",
        "\n",
        "def bigO_of_1 (List): # (O(1))     Constant time complexity, same time to run regardless of input data\n",
        "  print (list[0])\n",
        "\n",
        "\n",
        "\n",
        "def bigO_of_n (List): #(O(n))      Linear time complexity, Bigger the input data, longer the run time \n",
        "  for i in list:\n",
        "    print (i)\n",
        "\n",
        "\n",
        "def bigO_of_n_squared (List): # (O(n^2))  This also applies to larger powers, 9 for loops = (O(n^9))\n",
        "  for i in range (len(List)):\n",
        "    for j in range (len(List)):\n",
        "      print (List[i], List[j])\n",
        "\n",
        "def bigO_of_log_n(n): # (O(log n))   Longer to run as data size increase, but rate of increase slows as data increases\n",
        "    count = 0\n",
        "    while n > 0:\n",
        "        count += n % 2\n",
        "        n //= 2\n",
        "    return count\n",
        "\n",
        "\n"
      ],
      "metadata": {
        "id": "xR68X1AhywGc"
      },
      "execution_count": 6,
      "outputs": []
    },
    {
      "cell_type": "markdown",
      "source": [
        "#Classes"
      ],
      "metadata": {
        "id": "H9b7f4-H-PYs"
      }
    },
    {
      "cell_type": "code",
      "source": [
        "from dataclasses import dataclass\n",
        "class Examp1:\n",
        "  def __init__(self, name, cash):\n",
        "    self.name = name\n",
        "    self.cash = cash\n",
        "\n",
        "  def intro(self):\n",
        "    print (f\"Hey my name is {self.name} and I have {self.cash} dollars\")\n",
        "\n",
        "person = Examp1(\"Cooper\", 27)\n",
        "\n",
        "person.intro ()\n",
        "\n",
        "\n",
        "\n",
        "@dataclass\n",
        "class Examp2:\n",
        "  name: str\n",
        "  cash: int\n",
        "\n",
        "\n",
        "  def intro(self):\n",
        "    print (f\"Hey my name is {self.name} and I have {self.cash} dollars\")\n",
        "\n",
        "\n",
        "person2 = Examp2(\"Gabe\", 23)\n",
        "\n",
        "person2.intro ()\n",
        "\n",
        "\n",
        "\n",
        "\n",
        "@dataclass\n",
        "class Rectangle:\n",
        "    width: float\n",
        "    height: float\n",
        "\n",
        "    @classmethod         #When using on the class itself, otherwise don't use\n",
        "    def from_square(cls, side: float) -> 'Rectangle':\n",
        "        return cls(side, side)\n",
        "\n",
        "\n",
        "rect1 = Rectangle(width=5, height=10)\n",
        "print (rect1)\n",
        "\n",
        "rect2 = Rectangle.from_square(side=7)\n",
        "print (rect2)"
      ],
      "metadata": {
        "colab": {
          "base_uri": "https://localhost:8080/"
        },
        "id": "dZZtHfVZ-Tyv",
        "outputId": "784d89e7-6d67-4ce3-ce53-8b7ef74112ff"
      },
      "execution_count": 10,
      "outputs": [
        {
          "output_type": "stream",
          "name": "stdout",
          "text": [
            "Hey my name is Cooper and I have 27 dollars\n",
            "Hey my name is Gabe and I have 23 dollars\n",
            "Rectangle(width=5, height=10)\n",
            "Rectangle(width=7, height=7)\n"
          ]
        }
      ]
    }
  ]
}