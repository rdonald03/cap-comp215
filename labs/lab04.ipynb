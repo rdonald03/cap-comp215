{
  "cells": [
    {
      "cell_type": "markdown",
      "source": [
        "COMP 215 - LAB 4 (Graphs)\n",
        "-------------------------\n",
        "#### Name:Ryan Donald\n",
        "#### Date:Jan 25 2023\n",
        "\n",
        "This lab exercise is an introduction to Graphs and Graph Analysis using [NetworkX](https://networkx.org/documentation/stable/).\n",
        "\n",
        "**New Python concepts**:\n",
        "  * **NetworkX** is an open-source package.  It provides a `Graph` object to represent a graph.\n",
        "  * Built-in `random` module provides algorithms for generating pseudo-random sequences\n",
        "  * [Generator expression](https://towardsdatascience.com/understanding-generator-expressions-in-python-fe0c4534619) - similar to a list comprehension, but faster and using much less memory!\n",
        "\n",
        "**Credits**:\n",
        "    Code examples based on [Think Complexity, 2nd edition](https://thinkcomplex.com).\n",
        "    Copyright 2016 Allen Downey, [MIT License](http://opensource.org/licenses/MIT)\n",
        "\n",
        "As usual, the first code cell simply imports all the modules we'll be using..."
      ],
      "metadata": {
        "collapsed": false,
        "pycharm": {
          "name": "#%% md\n"
        },
        "id": "vzFoMx7ITsLb"
      }
    },
    {
      "cell_type": "code",
      "execution_count": 2,
      "outputs": [],
      "source": [
        "import math\n",
        "import random\n",
        "import statistics\n",
        "from timeit import timeit\n",
        "\n",
        "import matplotlib.pyplot as plt\n",
        "import networkx as nx"
      ],
      "metadata": {
        "pycharm": {
          "name": "#%%\n"
        },
        "id": "So_IN9EUTsLc"
      }
    },
    {
      "cell_type": "markdown",
      "source": [
        "## Directed graph\n",
        "\n",
        "The first example is a directed graph that represents a social network with four nodes."
      ],
      "metadata": {
        "collapsed": false,
        "pycharm": {
          "name": "#%% md\n"
        },
        "id": "O2Hg4TkPTsLd"
      }
    },
    {
      "cell_type": "code",
      "execution_count": 46,
      "outputs": [
        {
          "output_type": "execute_result",
          "data": {
            "text/plain": [
              "['John', 'Alice', 'Bob', 'Chuck']"
            ]
          },
          "metadata": {},
          "execution_count": 46
        }
      ],
      "source": [
        "social_network = nx.DiGraph()\n",
        "social_network.add_node('John')\n",
        "social_network.add_node('Alice')\n",
        "social_network.add_node('Bob')\n",
        "social_network.add_node('Chuck')\n",
        "list(social_network.nodes())"
      ],
      "metadata": {
        "pycharm": {
          "name": "#%%\n"
        },
        "id": "ASGnA7F9TsLd",
        "outputId": "6362886f-9349-4a91-b29f-4351abf4341c",
        "colab": {
          "base_uri": "https://localhost:8080/"
        }
      }
    },
    {
      "cell_type": "markdown",
      "source": [
        "Add some edges between nodes to represent the \"Follows\" relationship (e.g., Alice \"follows\" Bob)"
      ],
      "metadata": {
        "collapsed": false,
        "pycharm": {
          "name": "#%% md\n"
        },
        "id": "i18oyegzTsLe"
      }
    },
    {
      "cell_type": "code",
      "execution_count": 47,
      "outputs": [
        {
          "output_type": "execute_result",
          "data": {
            "text/plain": [
              "[('John', 'Bob'),\n",
              " ('John', 'Alice'),\n",
              " ('Alice', 'Bob'),\n",
              " ('Alice', 'Chuck'),\n",
              " ('Bob', 'Alice'),\n",
              " ('Bob', 'Chuck')]"
            ]
          },
          "metadata": {},
          "execution_count": 47
        }
      ],
      "source": [
        "social_network.add_edge('Alice', 'Bob')\n",
        "social_network.add_edge('Alice', 'Chuck')\n",
        "social_network.add_edge('Bob', 'Alice')\n",
        "social_network.add_edge('Bob', 'Chuck')\n",
        "social_network.add_edge('John','Bob')\n",
        "social_network.add_edge('John','Alice')\n",
        "list(social_network.edges())"
      ],
      "metadata": {
        "pycharm": {
          "name": "#%%\n"
        },
        "id": "g4NU3Ge2TsLe",
        "outputId": "95ada945-9479-465b-b750-ad44dd8eae7d",
        "colab": {
          "base_uri": "https://localhost:8080/"
        }
      }
    },
    {
      "cell_type": "markdown",
      "source": [
        "And here's how to draw the graph.\n",
        "Modify the draw parameters to see how to customize the display [[docs](https://networkx.org/documentation/stable/reference/generated/networkx.drawing.nx_pylab.draw_networkx.html)]"
      ],
      "metadata": {
        "collapsed": false,
        "pycharm": {
          "name": "#%% md\n"
        },
        "id": "eFoSKebvTsLe"
      }
    },
    {
      "cell_type": "code",
      "execution_count": 49,
      "outputs": [
        {
          "output_type": "display_data",
          "data": {
            "text/plain": [
              "<Figure size 432x288 with 1 Axes>"
            ],
            "image/png": "[encoded data removed]"
          },
          "metadata": {}
        }
      ],
      "source": [
        "nx.draw_circular(social_network,\n",
        "                 node_color='#ffffff',\n",
        "                 node_size=2000,\n",
        "                 with_labels=True)\n",
        "plt.axis('equal')\n",
        "plt.show()"
      ],
      "metadata": {
        "pycharm": {
          "name": "#%%\n"
        },
        "id": "2K3-fS3RTsLe",
        "outputId": "008dec7b-38ff-4bb6-bb08-0f41d12fa131",
        "colab": {
          "base_uri": "https://localhost:8080/",
          "height": 319
        }
      }
    },
    {
      "cell_type": "code",
      "source": [
        "#Excercise 1\n",
        "social_network.add_node ('Mike')\n",
        "social_network.add_node ('Dave')\n",
        "social_network.add_edge ('Alice', 'Mike')\n",
        "social_network.add_edge ('Dave', 'Mike')\n",
        "social_network.add_edge ('Dave', 'Chuck')\n",
        "nx.draw_circular(social_network,\n",
        "                 node_color='#fff000',\n",
        "                 node_size=2000,\n",
        "                 with_labels=True)\n",
        "plt.axis('equal')\n",
        "plt.show()\n",
        "\n"
      ],
      "metadata": {
        "id": "qGX8qbO_W6iJ",
        "outputId": "8158ad48-8d33-4531-b4fc-094557008d3a",
        "colab": {
          "base_uri": "https://localhost:8080/",
          "height": 319
        }
      },
      "execution_count": 58,
      "outputs": [
        {
          "output_type": "display_data",
          "data": {
            "text/plain": [
              "<Figure size 432x288 with 1 Axes>"
            ],
            "image/png": "[encoded data removed]"
          },
          "metadata": {}
        }
      ]
    },
    {
      "cell_type": "markdown",
      "source": [
        "### Exercise 1:\n",
        "Add at least 2 additional nodes (users) and a few more edges (follows relations) and re-draw the graph.\n",
        "Don't modify the code above, instead, re-create and draw a new graph with the extra nodes."
      ],
      "metadata": {
        "collapsed": false,
        "pycharm": {
          "name": "#%% md\n"
        },
        "id": "7Km3ZOS7TsLf"
      }
    },
    {
      "cell_type": "markdown",
      "source": [
        "## Undirected graph\n",
        "\n",
        "The second example is an undirected graph that represents cities and the driving times between them.\n",
        "\n",
        "`locations` is a dictionary that maps from each city to a spatial coordinate and\n",
        "`drive_times` is a dictionary that maps a pair of cities to the driving time in minutes between them."
      ],
      "metadata": {
        "collapsed": false,
        "pycharm": {
          "name": "#%% md\n"
        },
        "id": "25-7guumTsLf"
      }
    },
    {
      "cell_type": "code",
      "execution_count": 6,
      "outputs": [
        {
          "output_type": "execute_result",
          "data": {
            "text/plain": [
              "'From North Van at (5, 5) the drive time to Burnaby is 20 minutes.'"
            ],
            "application/vnd.google.colaboratory.intrinsic+json": {
              "type": "string"
            }
          },
          "metadata": {},
          "execution_count": 6
        }
      ],
      "source": [
        "locations = dict(NorthVan=(5, 5),\n",
        "                 Burnaby=(7, 1),\n",
        "                 Vancouver=(0, 0),  # position Vancouver at the centre of the universe, of course ;-)\n",
        "                 Richmond=(-1, -4))\n",
        "\n",
        "drive_times = {('NorthVan', 'Burnaby'): 20,\n",
        "               ('NorthVan', 'Vancouver'): 35,\n",
        "               ('Burnaby', 'Vancouver'): 15,\n",
        "               ('Vancouver', 'Richmond'): 25}\n",
        "\n",
        "f\"From North Van at {locations['NorthVan']} the drive time to Burnaby is {drive_times[('NorthVan', 'Burnaby')]} minutes.\""
      ],
      "metadata": {
        "pycharm": {
          "name": "#%%\n"
        },
        "id": "wQNYVdv7TsLf",
        "outputId": "02698506-8d39-4077-a61a-3ee5f3584918",
        "colab": {
          "base_uri": "https://localhost:8080/",
          "height": 35
        }
      }
    },
    {
      "cell_type": "markdown",
      "source": [
        "Now we can use the keys in `locations` to add nodes to a graph,\n",
        "and the `drive_times` keys to define the edges between them\n",
        "Notice how when a `dict` object is treated as a sequence (rather than a mapping), it is a sequence of it's **keys**."
      ],
      "metadata": {
        "collapsed": false,
        "pycharm": {
          "name": "#%% md\n"
        },
        "id": "18MDy4vxTsLf"
      }
    },
    {
      "cell_type": "code",
      "execution_count": 7,
      "outputs": [
        {
          "output_type": "execute_result",
          "data": {
            "text/plain": [
              "(NodeView(('NorthVan', 'Burnaby', 'Vancouver', 'Richmond')),\n",
              " EdgeView([('NorthVan', 'Burnaby'), ('NorthVan', 'Vancouver'), ('Burnaby', 'Vancouver'), ('Vancouver', 'Richmond')]))"
            ]
          },
          "metadata": {},
          "execution_count": 7
        }
      ],
      "source": [
        "cities = nx.Graph()\n",
        "cities.add_nodes_from(locations)\n",
        "cities.add_edges_from(drive_times)\n",
        "\n",
        "cities.nodes(), cities.edges()"
      ],
      "metadata": {
        "pycharm": {
          "name": "#%%\n"
        },
        "id": "HrOgKZ9nTsLg",
        "outputId": "571dd729-97b2-4d74-aeb6-d7447e8135c5",
        "colab": {
          "base_uri": "https://localhost:8080/"
        }
      }
    },
    {
      "cell_type": "markdown",
      "source": [
        "And we can draw the graph using `locations` to arrange nodes spatially and with `drive_times` to label the edges."
      ],
      "metadata": {
        "collapsed": false,
        "pycharm": {
          "name": "#%% md\n"
        },
        "id": "Aw2_Ho_fTsLg"
      }
    },
    {
      "cell_type": "code",
      "execution_count": 8,
      "outputs": [
        {
          "output_type": "display_data",
          "data": {
            "text/plain": [
              "<Figure size 432x288 with 1 Axes>"
            ],
            "image/png": "[encoded data removed]"
          },
          "metadata": {}
        }
      ],
      "source": [
        "nx.draw(cities, locations,\n",
        "        node_color='#99ff99',\n",
        "        node_shape='s',\n",
        "        node_size=3000,\n",
        "        with_labels=True)\n",
        "\n",
        "nx.draw_networkx_edge_labels(cities, locations,\n",
        "                             edge_labels=drive_times)\n",
        "\n",
        "plt.axis('equal')\n",
        "plt.show()"
      ],
      "metadata": {
        "pycharm": {
          "name": "#%%\n"
        },
        "id": "p9E45zwhTsLg",
        "outputId": "98c555d6-d466-4538-9083-36df4c5f6c08",
        "colab": {
          "base_uri": "https://localhost:8080/",
          "height": 319
        }
      }
    },
    {
      "cell_type": "markdown",
      "source": [
        "### Exercise 2\n",
        "Add at least 2 additional nodes (cities) and edges (drive times) and re-draw the graph.\n",
        "Improve the data in your version of the graph by looking up estimated / average drive times.\n",
        "Don't modify the code above - re-develop a complete solution with your additions / changes in the code block below."
      ],
      "metadata": {
        "collapsed": false,
        "pycharm": {
          "name": "#%% md\n"
        },
        "id": "i-9piLFeTsLg"
      }
    },
    {
      "cell_type": "code",
      "execution_count": 9,
      "outputs": [],
      "source": [
        "# Solution to Ex. 2 goes here..."
      ],
      "metadata": {
        "pycharm": {
          "name": "#%%\n"
        },
        "id": "7tNFcVKgTsLg"
      }
    },
    {
      "cell_type": "markdown",
      "source": [
        "## Complete graph\n",
        "\n",
        "To make a complete graph, we need an edge between every distinct pair of nodes.\n",
        "The algorithm below creates the complete set of distinct, undirected pairs from a list of input objects.\n",
        "**Be sure you understand how this algorithm works!**  If you need to re-write it as a loop and replace zip with index logic, do it."
      ],
      "metadata": {
        "collapsed": false,
        "pycharm": {
          "name": "#%% md\n"
        },
        "id": "tOau1We_TsLg"
      }
    },
    {
      "cell_type": "code",
      "execution_count": 10,
      "outputs": [
        {
          "output_type": "execute_result",
          "data": {
            "text/plain": [
              "[('w', 'x'), ('x', 'y'), ('y', 'z'), ('w', 'y'), ('x', 'z'), ('w', 'z')]"
            ]
          },
          "metadata": {},
          "execution_count": 10
        }
      ],
      "source": [
        "def all_pairs(objects):\n",
        "    \"\"\" Return a generator with the complete set of distinct object pairs, as 2-tuples, from the given iterable of objects \"\"\"\n",
        "    return ((a, b) for i in range(1, len(objects)) for a,b in zip(objects, objects[i:]))\n",
        "\n",
        "list( all_pairs(('w', 'x', 'y', 'z')) )"
      ],
      "metadata": {
        "pycharm": {
          "name": "#%%\n"
        },
        "id": "AnhxX8l2TsLh",
        "outputId": "89ef3b21-ae0f-4b0b-abed-dbfb299ab7b0",
        "colab": {
          "base_uri": "https://localhost:8080/"
        }
      }
    },
    {
      "cell_type": "markdown",
      "source": [
        "`make_complete_graph` makes a `Graph` with the given number of nodes and edges between each distinct pair of nodes."
      ],
      "metadata": {
        "collapsed": false,
        "pycharm": {
          "name": "#%% md\n"
        },
        "id": "5mkuPLAmTsLh"
      }
    },
    {
      "cell_type": "code",
      "execution_count": 11,
      "outputs": [],
      "source": [
        "def make_complete_graph(n):\n",
        "    \"\"\" Return a \"complete\" Graph with n nodes labeled 0 .. n-1 \"\"\"\n",
        "    graph = nx.Graph()\n",
        "    labels = range(n)\n",
        "    graph.add_nodes_from(labels)\n",
        "    graph.add_edges_from(all_pairs(labels))\n",
        "    return graph"
      ],
      "metadata": {
        "pycharm": {
          "name": "#%%\n"
        },
        "id": "UUHZ0aFuTsLh"
      }
    },
    {
      "cell_type": "code",
      "execution_count": 12,
      "outputs": [
        {
          "output_type": "execute_result",
          "data": {
            "text/plain": [
              "'Complete Graph has 10 nodes and 45 edges'"
            ],
            "application/vnd.google.colaboratory.intrinsic+json": {
              "type": "string"
            }
          },
          "metadata": {},
          "execution_count": 12
        }
      ],
      "source": [
        "complete = make_complete_graph(10)\n",
        "f'Complete Graph has {complete.number_of_nodes()} nodes and {complete.number_of_edges()} edges'"
      ],
      "metadata": {
        "pycharm": {
          "name": "#%%\n"
        },
        "id": "mjGzJn2rTsLh",
        "outputId": "9554bee1-9101-4d46-9a98-066173fa1c55",
        "colab": {
          "base_uri": "https://localhost:8080/",
          "height": 35
        }
      }
    },
    {
      "cell_type": "code",
      "execution_count": 13,
      "outputs": [
        {
          "output_type": "display_data",
          "data": {
            "text/plain": [
              "<Figure size 432x288 with 1 Axes>"
            ],
            "image/png": "[encoded data removed]"
          },
          "metadata": {}
        }
      ],
      "source": [
        "nx.draw_circular(complete,\n",
        "                 node_color='#ffaa99',\n",
        "                 node_size=1000,\n",
        "                 with_labels=True)\n",
        "plt.show()"
      ],
      "metadata": {
        "pycharm": {
          "name": "#%%\n"
        },
        "id": "8C-3csEvTsLh",
        "outputId": "61b2c6fd-eaa8-4471-f81e-35fe07a29b0d",
        "colab": {
          "base_uri": "https://localhost:8080/",
          "height": 319
        }
      }
    },
    {
      "cell_type": "markdown",
      "source": [
        "The `neighbors` method of a Graph object returns the nodes with an edge a given node.  In a complete graph, that is all other nodes!"
      ],
      "metadata": {
        "collapsed": false,
        "pycharm": {
          "name": "#%% md\n"
        },
        "id": "6jwOJn5sTsLi"
      }
    },
    {
      "cell_type": "code",
      "execution_count": 14,
      "outputs": [
        {
          "output_type": "execute_result",
          "data": {
            "text/plain": [
              "'Neighbours of node 3:  [1, 2, 3, 4, 5, 6, 7, 8, 9]'"
            ],
            "application/vnd.google.colaboratory.intrinsic+json": {
              "type": "string"
            }
          },
          "metadata": {},
          "execution_count": 14
        }
      ],
      "source": [
        "node = 3\n",
        "f'Neighbours of node {node}:  {list(complete.neighbors(0))}'"
      ],
      "metadata": {
        "pycharm": {
          "name": "#%%\n"
        },
        "id": "EQJer3BYTsLi",
        "outputId": "a719b6f6-6111-464d-d97c-e4b1dfc0a064",
        "colab": {
          "base_uri": "https://localhost:8080/",
          "height": 35
        }
      }
    },
    {
      "cell_type": "markdown",
      "source": [
        "### Exercise 3\n",
        "Make another compelete graph with a different number of nodes (again, develop your own graph and diagram below).\n",
        "Verify that each node has the expected number of `neighbors`"
      ],
      "metadata": {
        "collapsed": false,
        "pycharm": {
          "name": "#%% md\n"
        },
        "id": "THpS5H8fTsLi"
      }
    },
    {
      "cell_type": "code",
      "execution_count": 15,
      "outputs": [],
      "source": [
        "# Solution for Ex. 3 here..."
      ],
      "metadata": {
        "pycharm": {
          "name": "#%%\n"
        },
        "id": "PXkhAMKyTsLi"
      }
    },
    {
      "cell_type": "markdown",
      "source": [
        "## Random Numbers\n",
        "This is a big topic we will return to several times in Comp215.\n",
        "\n",
        "In the next section we need to randomize the connections (edges) in a graph.\n",
        "Here we'll develop a small function to generate the random sequence for that and explore some of its properties.\n",
        "\n",
        "We `seed` Python's built-in random number generator so we get the same sequence each time (to facilitate debugging and comprehension!)"
      ],
      "metadata": {
        "collapsed": false,
        "pycharm": {
          "name": "#%% md\n"
        },
        "id": "Bd3mjqqZTsLi"
      }
    },
    {
      "cell_type": "code",
      "execution_count": 16,
      "outputs": [],
      "source": [
        "random.seed(6) # Comment this out to run randomized experiments"
      ],
      "metadata": {
        "pycharm": {
          "name": "#%%\n"
        },
        "id": "CFJVfuqhTsLi"
      }
    },
    {
      "cell_type": "markdown",
      "source": [
        "Repeated calls to the function below will generate a random sequence of True/False values.\n",
        "It's easiest to think of this as a simulated \"coin toss\", where True is \"heads\" and False is \"tails\".\n",
        "But this coin can be \"biased\" - input $p$ specifies the probability of throwing \"heads\" and it need not be 50%!"
      ],
      "metadata": {
        "collapsed": false,
        "pycharm": {
          "name": "#%% md\n"
        },
        "id": "kkpoRyxBTsLj"
      }
    },
    {
      "cell_type": "code",
      "execution_count": 17,
      "outputs": [],
      "source": [
        "def coin_toss(p):\n",
        "    \"\"\" Simulate flipping a biased \"coin\", where the probability of 'heads' is p.  Return True iff 'heads', False otherwise \"\"\"\n",
        "    return random.random() < p"
      ],
      "metadata": {
        "pycharm": {
          "name": "#%%\n"
        },
        "id": "2lLaKArCTsLj"
      }
    },
    {
      "cell_type": "markdown",
      "source": [
        "### Exercise 4\n",
        "Use a list comprehension to generate a random sequence of 100 \"fair\" `coin_toss`es  (p = 0.5)\n",
        "Count the number \"heads\" (True) and \"tails\" (False) in the list (hint:  `sum(1 for toss in .... if ....)\n",
        "Rerun the experiment several times to gain a deeper understanding of what this function does.\n",
        "Experiment with different values of $p$.  What is the meaning of $p$ in this context?"
      ],
      "metadata": {
        "collapsed": false,
        "pycharm": {
          "name": "#%% md\n"
        },
        "id": "QDo7mDV7TsLj"
      }
    },
    {
      "cell_type": "code",
      "execution_count": 18,
      "outputs": [],
      "source": [
        "# Solution for Ex. 4 here..."
      ],
      "metadata": {
        "pycharm": {
          "name": "#%%\n"
        },
        "id": "cvY9BFwXTsLj"
      }
    },
    {
      "cell_type": "markdown",
      "source": [
        "## Random graphs\n",
        "from the textbook...\n",
        "> One of the more interesting \\[random graphs\\] is the Erdős-Rényi model, studied by Paul Erdős and Alfréd Rényi in the 1960s.\n",
        "\n",
        "> An Erdős-Rényi graph (ER graph) is characterized by two parameters: $n$ is the number of nodes and $p$ is the probability that there is an edge between any two nodes.\n",
        "\n",
        "> Erdős and Rényi studied the properties of these random graphs; one of their surprising results is the existence of abrupt changes in the properties of random graphs as random edges are added.\n",
        "\n",
        "In the remainder of the lab we will work towards re-producing this computational experiment.\n",
        "\n",
        "We start by making an ER graph where the probability of an edge between each pair of nodes is $p$."
      ],
      "metadata": {
        "collapsed": false,
        "id": "1IUGta8ZTsLj"
      }
    },
    {
      "cell_type": "markdown",
      "source": [
        "`random_pairs` generates a random subset of all possible distinct pairs from a set of objects,\n",
        "where each pair has a fixed probability, `p` of appearing in the subset.\n",
        "Notice how the algorithm starts with `all_pairs`, and applies a **filter** operation to randomly filter some pairs out with probability $p$.\n",
        "Again, if you have any trouble reading the generator expression here, please re-write it as a loop so you are 100% clear how it works."
      ],
      "metadata": {
        "collapsed": false,
        "pycharm": {
          "name": "#%% md\n"
        },
        "id": "U9C8xSEhTsLj"
      }
    },
    {
      "cell_type": "code",
      "execution_count": 19,
      "outputs": [
        {
          "output_type": "execute_result",
          "data": {
            "text/plain": [
              "[('y', 'z'), ('w', 'y'), ('x', 'z')]"
            ]
          },
          "metadata": {},
          "execution_count": 19
        }
      ],
      "source": [
        "def random_pairs(objects, p):\n",
        "    \"\"\" Return a generator of random subset of distinct object pairs (2-tuples), each with a probability of `p` \"\"\"\n",
        "    return (pair for pair in all_pairs(objects) if coin_toss(p))  # \"flip a coin\" to determine whether a given pair is included.\n",
        "\n",
        "# Run this cell several times to see different random subsets.  Change value of `p` to alter likely size of the result.\n",
        "list( random_pairs(('w', 'x', 'y', 'z'), p=0.5) )"
      ],
      "metadata": {
        "pycharm": {
          "name": "#%%\n"
        },
        "id": "9d5tDr1vTsLj",
        "outputId": "3011b00c-6551-4887-db0e-29748c09732c",
        "colab": {
          "base_uri": "https://localhost:8080/"
        }
      }
    },
    {
      "cell_type": "markdown",
      "source": [
        "`make_random_graph` makes an ER Graph where the probability of an edge between each pair of nodes is `p`.\n",
        "\n",
        "Again, you can run the 2nd code block below a few times to generate different random graphs."
      ],
      "metadata": {
        "collapsed": false,
        "pycharm": {
          "name": "#%% md\n"
        },
        "id": "-fF8k5iETsLk"
      }
    },
    {
      "cell_type": "code",
      "execution_count": 20,
      "outputs": [],
      "source": [
        "def make_random_graph(n, p):\n",
        "    \"\"\" Return an ER Graph with n nodes, where the probability of an edge between a pair of nodes in p \"\"\"\n",
        "    graph = nx.Graph()\n",
        "    labels = range(n)\n",
        "    graph.add_nodes_from(labels)\n",
        "    graph.add_edges_from(random_pairs(labels, p))\n",
        "    return graph"
      ],
      "metadata": {
        "pycharm": {
          "name": "#%%\n"
        },
        "id": "hPQYQlMETsLk"
      }
    },
    {
      "cell_type": "code",
      "execution_count": 21,
      "outputs": [
        {
          "output_type": "stream",
          "name": "stdout",
          "text": [
            "Random Graph has 10 nodes and 10 edges\n"
          ]
        },
        {
          "output_type": "display_data",
          "data": {
            "text/plain": [
              "<Figure size 432x288 with 1 Axes>"
            ],
            "image/png": "[encoded data removed]"
          },
          "metadata": {}
        }
      ],
      "source": [
        "random_graph = make_random_graph(10, 0.3)\n",
        "print(f'Random Graph has {random_graph.number_of_nodes()} nodes and {random_graph.number_of_edges()} edges')\n",
        "\n",
        "nx.draw_circular(random_graph,\n",
        "                 node_color='#ff99dd',\n",
        "                 node_size=1000,\n",
        "                 with_labels=True)\n",
        "plt.show()"
      ],
      "metadata": {
        "pycharm": {
          "name": "#%%\n"
        },
        "id": "YGg0WuYBTsLk",
        "outputId": "fc238d94-b1ba-4d71-f6e5-106d095a62c4",
        "colab": {
          "base_uri": "https://localhost:8080/",
          "height": 336
        }
      }
    },
    {
      "cell_type": "markdown",
      "source": [
        "## Connectivity\n",
        "\n",
        "To check whether a graph is \"connected\", we'll start by finding all nodes that can be reached, starting at a given node.\n",
        "This algorithm uses a set to keep track of nodes we've already `seen` and a `stack` (list) to keep track of nodes we could reach from here.\n",
        "Trace this algorithm for a node from the graph above, tracking the `seen` and `stack` collections so you really understand how it works."
      ],
      "metadata": {
        "collapsed": false,
        "id": "MVN7gU6_TsLk"
      }
    },
    {
      "cell_type": "code",
      "execution_count": 22,
      "outputs": [],
      "source": [
        "def reachable_nodes(graph, start):\n",
        "    \"\"\" return the set of nodes that are reachable from the given start node\"\"\"\n",
        "    seen = set()\n",
        "    stack = [start]\n",
        "    while stack:\n",
        "        node = stack.pop()\n",
        "        if node not in seen:\n",
        "            seen.add(node)\n",
        "            stack.extend(graph.neighbors(node))\n",
        "    return seen"
      ],
      "metadata": {
        "pycharm": {
          "name": "#%%\n"
        },
        "id": "fsqrlDjKTsLk"
      }
    },
    {
      "cell_type": "markdown",
      "source": [
        "In the complete graph, we can reach all nodes from any starting node, but that's not neccessarily true for a random graph..."
      ],
      "metadata": {
        "collapsed": false,
        "pycharm": {
          "name": "#%% md\n"
        },
        "id": "_VmfEe3uTsLk"
      }
    },
    {
      "cell_type": "code",
      "execution_count": 23,
      "outputs": [
        {
          "output_type": "execute_result",
          "data": {
            "text/plain": [
              "{0, 1, 2, 3, 4, 5, 6, 7, 8, 9}"
            ]
          },
          "metadata": {},
          "execution_count": 23
        }
      ],
      "source": [
        "reachable_nodes(complete, 0)"
      ],
      "metadata": {
        "pycharm": {
          "name": "#%%\n"
        },
        "id": "LKBpnG10TsLl",
        "outputId": "a85dc7ef-8945-4203-95db-cc7cfdabf0c8",
        "colab": {
          "base_uri": "https://localhost:8080/"
        }
      }
    },
    {
      "cell_type": "code",
      "execution_count": 24,
      "outputs": [
        {
          "output_type": "execute_result",
          "data": {
            "text/plain": [
              "{0}"
            ]
          },
          "metadata": {},
          "execution_count": 24
        }
      ],
      "source": [
        "reachable_nodes(random_graph, 0)"
      ],
      "metadata": {
        "pycharm": {
          "name": "#%%\n"
        },
        "id": "l3k6yUm3TsLl",
        "outputId": "a651e113-fba5-437b-c660-e1b44c1baa5f",
        "colab": {
          "base_uri": "https://localhost:8080/"
        }
      }
    },
    {
      "cell_type": "markdown",
      "source": [
        "Now it's straight-forward to determine if the graph **is connected** or not.\n",
        "Of course, a complete graphs is always connected, but a random graph may not be."
      ],
      "metadata": {
        "collapsed": false,
        "pycharm": {
          "name": "#%% md\n"
        },
        "id": "EW3ZhGEOTsLl"
      }
    },
    {
      "cell_type": "code",
      "execution_count": 25,
      "outputs": [],
      "source": [
        "def is_connected(graph):\n",
        "    \"\"\" Return True if the graph is connected, false otherwise. \"\"\"\n",
        "    start = next(iter(graph))   # grab the first node in the graph.  This statement will need some further explanation.\n",
        "    reachable = reachable_nodes(graph, start)\n",
        "    return len(reachable) == len(graph)"
      ],
      "metadata": {
        "pycharm": {
          "name": "#%%\n"
        },
        "id": "3YdkeJqXTsLl"
      }
    },
    {
      "cell_type": "code",
      "execution_count": 26,
      "outputs": [
        {
          "output_type": "execute_result",
          "data": {
            "text/plain": [
              "True"
            ]
          },
          "metadata": {},
          "execution_count": 26
        }
      ],
      "source": [
        "is_connected(complete)"
      ],
      "metadata": {
        "pycharm": {
          "name": "#%%\n"
        },
        "id": "iLVZby2MTsLm",
        "outputId": "50f42d5e-0935-4ccb-b3aa-d51f9f47a435",
        "colab": {
          "base_uri": "https://localhost:8080/"
        }
      }
    },
    {
      "cell_type": "code",
      "execution_count": 27,
      "outputs": [
        {
          "output_type": "execute_result",
          "data": {
            "text/plain": [
              "False"
            ]
          },
          "metadata": {},
          "execution_count": 27
        }
      ],
      "source": [
        "is_connected(random_graph)"
      ],
      "metadata": {
        "pycharm": {
          "name": "#%%\n"
        },
        "id": "aPcJekETTsLm",
        "outputId": "7a991bf3-cc0f-4670-8814-d6195cac5272",
        "colab": {
          "base_uri": "https://localhost:8080/"
        }
      }
    },
    {
      "cell_type": "markdown",
      "source": [
        "### Exercise 5\n",
        "Use `timeit` to run an experiment that times the `reachable_nodes` algorithm.\n",
        "Once you understand how `timeit` works, design a small experiment to time the `reachable_nodes` algorithm for a range of graph sizes (`n`)\n",
        "*Optional*: plot the results of your experiment on a graph."
      ],
      "metadata": {
        "collapsed": false,
        "pycharm": {
          "name": "#%% md\n"
        },
        "id": "Ly-igCcpTsLm"
      }
    },
    {
      "cell_type": "code",
      "execution_count": 28,
      "outputs": [
        {
          "output_type": "execute_result",
          "data": {
            "text/plain": [
              "'Time to execute: 0.07946384800000317 seconds'"
            ],
            "application/vnd.google.colaboratory.intrinsic+json": {
              "type": "string"
            }
          },
          "metadata": {},
          "execution_count": 28
        }
      ],
      "source": [
        "# Solution for Ex. 5 goes below... here's an example of how to use timeit:\n",
        "n = 100\n",
        "seconds = timeit(lambda: reachable_nodes( make_complete_graph(n),  0 ),  number=1)\n",
        "f'Time to execute: {seconds} seconds'"
      ],
      "metadata": {
        "pycharm": {
          "name": "#%%\n"
        },
        "id": "aW3irSszTsLm",
        "outputId": "93098005-4c75-4575-a74c-f01704d618bd",
        "colab": {
          "base_uri": "https://localhost:8080/",
          "height": 35
        }
      }
    },
    {
      "cell_type": "markdown",
      "source": [
        "## Likelihood of connectivity\n",
        "\n",
        "We are finally ready to replicate Erdős and Rényi's computational experiment.\n",
        "In this experiment, we estimate the likelihood that a randomly-generated ER graph is connected.\n",
        "\n",
        "This function takes `n` and `p`, generates `iters` graphs, and returns the proportion of them that are connected.\n",
        "Be sure you understand how this algorithm works.  Again, re-write it using loops if needed to understand what it does and how it works."
      ],
      "metadata": {
        "collapsed": false,
        "pycharm": {
          "name": "#%% md\n"
        },
        "id": "SJg9jT_ETsLm"
      }
    },
    {
      "cell_type": "code",
      "execution_count": 29,
      "outputs": [
        {
          "output_type": "execute_result",
          "data": {
            "text/plain": [
              "'Likelihood that an ER graph (n=30, p=0.1) is connected: 28.999999999999996%'"
            ],
            "application/vnd.google.colaboratory.intrinsic+json": {
              "type": "string"
            }
          },
          "metadata": {},
          "execution_count": 29
        }
      ],
      "source": [
        "def proportion_connected(n, p, iters=100):\n",
        "    \"\"\" Return the proportion of iters random ER Graphs (n, p) that are connected. \"\"\"\n",
        "    graphs = (make_random_graph(n, p) for i in range(iters))\n",
        "    return statistics.mean( (1 if is_connected(graph) else 0 for graph in graphs) )\n",
        "\n",
        "n = 30\n",
        "p = 0.1\n",
        "f'Likelihood that an ER graph (n={n}, p={p}) is connected: {proportion_connected(n, p)*100}%'"
      ],
      "metadata": {
        "pycharm": {
          "name": "#%%\n"
        },
        "id": "WbQOmeW3TsLn",
        "outputId": "c5e7ea41-9c5f-4158-c9be-ef542b34560c",
        "colab": {
          "base_uri": "https://localhost:8080/",
          "height": 35
        }
      }
    },
    {
      "cell_type": "markdown",
      "source": [
        "## Critical Value of $p$\n",
        "\n",
        "Near a \"critical value\" of $p$, the likelihood of a random graph being connected rapidly changes from near 0 to near 1.\n",
        "Erdős and Rényi predict the critical value should be:  $ln(n) / n$\n",
        "For example..."
      ],
      "metadata": {
        "collapsed": false,
        "pycharm": {
          "name": "#%% md\n"
        },
        "id": "zI0NxQaJTsLn"
      }
    },
    {
      "cell_type": "code",
      "execution_count": 30,
      "outputs": [
        {
          "output_type": "execute_result",
          "data": {
            "text/plain": [
              "'Erdős and Rényi predict the crictical value of p for graphs of size 30 = 0.113'"
            ],
            "application/vnd.google.colaboratory.intrinsic+json": {
              "type": "string"
            }
          },
          "metadata": {},
          "execution_count": 30
        }
      ],
      "source": [
        "n = 30\n",
        "f'Erdős and Rényi predict the crictical value of p for graphs of size {n} = {math.log(n) / n:0.3f}'"
      ],
      "metadata": {
        "pycharm": {
          "name": "#%%\n"
        },
        "id": "95DuEc8_TsLn",
        "outputId": "b279e1d5-1aa2-46da-946d-b3f7b57fa20e",
        "colab": {
          "base_uri": "https://localhost:8080/",
          "height": 35
        }
      }
    },
    {
      "cell_type": "markdown",
      "source": [
        "### Exercise 6\n",
        "Experiment with `proportion_connected` at different values of $p$, to confirm (or refute) Erdős and Rényi's results.\n",
        "Ideally, write a small piece of code to run the experiment over a range of $p$.\n",
        "The goal of this experiment is to identify the \"critical value\" of $p$ for graphs of size $n$."
      ],
      "metadata": {
        "collapsed": false,
        "pycharm": {
          "name": "#%% md\n"
        },
        "id": "Bw5yHWzxTsLn"
      }
    },
    {
      "cell_type": "code",
      "execution_count": 31,
      "outputs": [],
      "source": [
        "# Solution for Ex. 6 goes here...\n"
      ],
      "metadata": {
        "pycharm": {
          "name": "#%%\n"
        },
        "id": "uItjXdSCTsLn"
      }
    }
  ],
  "metadata": {
    "kernelspec": {
      "display_name": "Python 3",
      "language": "python",
      "name": "python3"
    },
    "language_info": {
      "codemirror_mode": {
        "name": "ipython",
        "version": 2
      },
      "file_extension": ".py",
      "mimetype": "text/x-python",
      "name": "python",
      "nbconvert_exporter": "python",
      "pygments_lexer": "ipython2",
      "version": "2.7.6"
    },
    "colab": {
      "provenance": []
    }
  },
  "nbformat": 4,
  "nbformat_minor": 0
}