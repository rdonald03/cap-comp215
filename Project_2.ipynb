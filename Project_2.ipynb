{
  "nbformat": 4,
  "nbformat_minor": 0,
  "metadata": {
    "colab": {
      "provenance": [],
      "collapsed_sections": [
        "MFt1Xqmwah-b",
        "SH_qMsuJa1yX",
        "dwFF4lCFbBuM",
        "-tkGY6TZbTS0"
      ],
      "authorship_tag": "ABX9TyOP+0T8XDsDKK+EgcwlS9CI",
      "include_colab_link": true
    },
    "kernelspec": {
      "name": "python3",
      "display_name": "Python 3"
    },
    "language_info": {
      "name": "python"
    }
  },
  "cells": [
    {
      "cell_type": "markdown",
      "metadata": {
        "id": "view-in-github",
        "colab_type": "text"
      },
      "source": [
        "<a href=\"https://colab.research.google.com/github/rdonald03/cap-comp215/blob/main/Project_2.ipynb\" target=\"_parent\"><img src=\"https://colab.research.google.com/assets/colab-badge.svg\" alt=\"Open In Colab\"/></a>"
      ]
    },
    {
      "cell_type": "markdown",
      "source": [
        "\n",
        "#<font color = 'cyan'> Langton's Ant\n",
        "</font>\n",
        "\n",
        "#### Name: Ryan Donald\n",
        "#### Date: April 14 2023\n",
        "\n",
        "This notebook explores Langtons Ant, and how it changes with different starting directions, and timesteps."
      ],
      "metadata": {
        "id": "ruhlFMlf4kxe"
      }
    },
    {
      "cell_type": "markdown",
      "source": [
        "#Citations\n",
        "\n",
        "Used Animation2D class as well as plot_2D_array from previous labs to help animate the module\n",
        "\n",
        "https://numpy.org/doc/stable/user/index.html#user\n",
        "\n",
        "https://docs.python.org/3/library/time.html\n",
        "\n",
        "Used this webpage to compare my model to make sure it was running correctly: https://josephpetitti.com/ant"
      ],
      "metadata": {
        "id": "aLGxDTPmIbgD"
      }
    },
    {
      "cell_type": "markdown",
      "source": [
        "#Importation of necessary modules/ Configuration of the notebook\n"
      ],
      "metadata": {
        "id": "MFt1Xqmwah-b"
      }
    },
    {
      "cell_type": "code",
      "execution_count": 321,
      "metadata": {
        "id": "uQpXowr94eUH"
      },
      "outputs": [],
      "source": [
        "%matplotlib inline\n",
        "import matplotlib\n",
        "import numpy as np\n",
        "import matplotlib.pyplot as plt\n",
        "from matplotlib.animation import FuncAnimation\n",
        "import time\n",
        "from matplotlib import animation\n",
        "import timeit\n",
        "matplotlib.rc('animation', html='jshtml')"
      ]
    },
    {
      "cell_type": "markdown",
      "source": [
        "#Code from previous labs to help with the animation of Langton's Ant"
      ],
      "metadata": {
        "id": "SH_qMsuJa1yX"
      }
    },
    {
      "cell_type": "code",
      "source": [
        "\n",
        "def plot_2D_array(array, axes=None, title='', **options):\n",
        "    \"\"\" Plot the 2D array as an image on the given axes  1's will be dark blue, 0's will be light blue. \"\"\"\n",
        "    axes = axes or plt.gca()  # If not axes are provided, draw on current axes\n",
        "    axes.set_title(title)\n",
        "    axes.set_xticks([], [])  # remove axes tick marks\n",
        "    axes.set_yticks([], [])\n",
        "    axes.imshow(array, **options)\n",
        "\n",
        "class Animation2D:\n",
        "    \"\"\"\n",
        "      Animates any 2D model with a step() method and a draw() method, using matplotlib\n",
        "      model.step() should take no parameters - just step the model forward one step.\n",
        "      model.draw() should take 2 parameters, the matpltolib axes to draw on and an integer step number\n",
        "\n",
        "      See https://www.allendowney.com/blog/2019/07/25/matplotlib-animation-in-jupyter/\n",
        "          for a discussion of the pros and cons of various animation techniques in jupyter notebooks\n",
        "    \"\"\"\n",
        "\n",
        "    def __init__(self, model, frames=50, steps_per_frame=1, figsize=(8, 8)):\n",
        "        \"\"\"\n",
        "        :param model: the simulation object to animate, with step() and draw(axes, step) methods\n",
        "        :param frames: number of animation frames to generate\n",
        "        \"\"\"\n",
        "        self.model = model\n",
        "        self.frames = frames\n",
        "        self.steps_per_frame = steps_per_frame\n",
        "        self.fig, self.ax = plt.subplots(figsize=figsize)\n",
        "\n",
        "    def animation_step(self, step):\n",
        "        \"\"\" Step the model forward and draw the plot \"\"\"\n",
        "        if step > 0:\n",
        "            for _ in range(self.steps_per_frame):\n",
        "                self.model.step()\n",
        "        self.model.draw(self.ax, step=step * self.steps_per_frame)\n",
        "\n",
        "    def show(self):\n",
        "        \"\"\" return the matplotlib animation object, ready for display \"\"\"\n",
        "        anim = animation.FuncAnimation(self.fig, self.animation_step, frames=self.frames)\n",
        "        plt.close()  # this ensures the last frame is not shown as a separate plot\n",
        "        return anim\n",
        "\n",
        "    def animate(self, interval=None):\n",
        "        \"\"\" Animate the model simulation directly in the notebook display block \"\"\"\n",
        "        from IPython.display import clear_output\n",
        "        try:\n",
        "            for i in range(self.frames):\n",
        "                clear_output(wait=True)  # clear the IPython display\n",
        "                self.ax.clear()  # clear old image from the axes (fixes a performance issue)\n",
        "                plt.figure(self.fig)  # add the figure back to pyplot ** sigh **\n",
        "                self.animation_step(i)\n",
        "                plt.show()  # show the current animation frame (pyplot then closes and throws away figure ** sigh **)\n",
        "                if interval:\n",
        "                    time.sleep(interval)\n",
        "        except KeyboardInterrupt:\n",
        "            pass"
      ],
      "metadata": {
        "id": "sGNFAMJSHYu8"
      },
      "execution_count": 322,
      "outputs": []
    },
    {
      "cell_type": "markdown",
      "source": [
        "#Langton's Ant Model"
      ],
      "metadata": {
        "id": "dwFF4lCFbBuM"
      }
    },
    {
      "cell_type": "code",
      "source": [
        "class Ant2D:\n",
        "\n",
        "  cmap = plt.cm.binary\n",
        "\n",
        "  def __init__ (self, x_size, y_size, direction):\n",
        "    '''Initializes the Langstons Ant model\n",
        "    x_size = size of array in x direction\n",
        "    y_size = size of array in y direction\n",
        "    x, y pos = position of the ant\n",
        "    direction = direction the ant is facing\n",
        "    \n",
        "    \n",
        "    \n",
        "     '''\n",
        "    self.x_size = x_size\n",
        "    self.y_size = y_size\n",
        "    self.array = np.zeros((x_size, y_size), dtype=int)\n",
        "    self.all_directions = ['up', 'right','down', 'left']\n",
        "    self.direction = direction    #0 = up, 1 = right, 2 = down, 3 = left. Change for a different starting direction\n",
        "    self.x_pos = (x_size // 2)\n",
        "    self.y_pos = (y_size // 2)\n",
        "\n",
        "  def step (self):\n",
        "    '''Performs one time step of Langstons Ant, applying all rules'''\n",
        "    state = self.array[self.y_pos, self.x_pos]\n",
        "    if state == 0:\n",
        "      self.direction = (self.direction - 1)%4 #if on white square, turn left. Alter to different things to experiment\n",
        "    elif state == 1:\n",
        "      self.direction = (self.direction + 1)%4 #if on dark square, turn right Alter to different things to experiment\n",
        "    self.array[self.y_pos, self.x_pos] = 1 - self.array[self.y_pos, self.x_pos]\n",
        "    if self.all_directions[self.direction] == 'up':\n",
        "      self.y_pos -= 1\n",
        "    elif self.all_directions[self.direction] == 'down':\n",
        "      self.y_pos += 1\n",
        "    elif self.all_directions[self.direction] == 'left':\n",
        "      self.x_pos -= 1\n",
        "    elif self.all_directions[self.direction] == 'right':\n",
        "      self.x_pos += 1\n",
        "\n",
        "\n",
        "  def draw (self, axes=None, step=''):\n",
        "    '''Draws an instance of langtons ant '''\n",
        "    axes or plt.axes\n",
        "    title = f'Langtons Ant, Timestep:{step}'\n",
        "    plot_2D_array(self.array, axes=axes, title=title, cmap = self.cmap)\n",
        "\n",
        "\n",
        "\n",
        "\n",
        "\n"
      ],
      "metadata": {
        "id": "lZTE1lAM4oCN"
      },
      "execution_count": 323,
      "outputs": []
    },
    {
      "cell_type": "markdown",
      "source": [
        "#Specific time step of the model"
      ],
      "metadata": {
        "id": "-tkGY6TZbTS0"
      }
    },
    {
      "cell_type": "code",
      "source": [
        "def see_specific (model, time_step):\n",
        "  '''Draws a specific timestep of langtons ant'''\n",
        "  for i in range (time_step):\n",
        "    model.step ()\n",
        "  model.draw (step=time_step)\n",
        "  \n",
        "\n",
        "\n"
      ],
      "metadata": {
        "id": "g5dJNfPIbLX5"
      },
      "execution_count": 324,
      "outputs": []
    },
    {
      "cell_type": "markdown",
      "source": [
        "#Animation "
      ],
      "metadata": {
        "id": "J-ZnGqy8blZC"
      }
    },
    {
      "cell_type": "code",
      "source": [
        "x = Ant2D (x_size=100, y_size=100, direction=0)\n",
        "b = Animation2D (x, 6000)\n",
        "b.animate ()"
      ],
      "metadata": {
        "colab": {
          "base_uri": "https://localhost:8080/",
          "height": 675
        },
        "id": "npFrzlAHblqw",
        "outputId": "31de3ec6-d46d-46d9-ef6e-bd6fa70ae4f6"
      },
      "execution_count": 325,
      "outputs": [
        {
          "output_type": "display_data",
          "data": {
            "text/plain": [
              "<Figure size 800x800 with 1 Axes>"
            ],
            "image/png": "[encoded data removed]"
          },
          "metadata": {}
        }
      ]
    },
    {
      "cell_type": "markdown",
      "source": [
        "#Experimenting with starting direction and long periods.\n",
        "We can see that with different starting directions, the pattern as a whole follows the inital direction. The final plot, for 'up' will be entirely identical to 'right', but will have been moved clockwise persay.\n",
        "\n",
        "We can also see that the ant will always end up building a repeating pattern after a given number of timesteps, no matter the starting direction\n",
        "\n",
        "Another interesting thing is that no matter the rules of turning up, left, right or down on a specific color, langton's ant will always reach a pattern that is repeating, whether that be moving in a single direction infinetly, or in a circle, or creating some form of \"highway\"."
      ],
      "metadata": {
        "id": "_7-dT7FV16FG"
      }
    },
    {
      "cell_type": "code",
      "source": [
        "f = 11500\n",
        "a = Ant2D(100, 100, 0)\n",
        "b = Ant2D(100, 100, 1)\n",
        "c = Ant2D(100, 100, 2)\n",
        "d = Ant2D(100, 100, 3)\n",
        "\n",
        "see_specific (a, f) #Change a-d to see up, right, down, left\n",
        "\n",
        "\n",
        "\n",
        "\n"
      ],
      "metadata": {
        "colab": {
          "base_uri": "https://localhost:8080/",
          "height": 428
        },
        "id": "eugrIgeu16rV",
        "outputId": "8ae6afce-d3a3-4f4c-98fe-3ca00bbb91ae"
      },
      "execution_count": 326,
      "outputs": [
        {
          "output_type": "display_data",
          "data": {
            "text/plain": [
              "<Figure size 640x480 with 1 Axes>"
            ],
            "image/png": "[encoded data removed]"
          },
          "metadata": {}
        }
      ]
    },
    {
      "cell_type": "markdown",
      "source": [
        "#Algorithm Analysis\n",
        "\n",
        "* The time complexity of the step function that \n",
        "applies all rules, and essentially is the main part of this model is O(1), meaning that no matter the size of the input, it will always take the same amount of time to run one step. Although, larger inputs will effect the model as a whole, as it will have to run more steps, but the time it takes to run one step will not change.\n",
        "\n",
        "Note that this is just for the model, as the animation of the model would be different, but the simulation itself is O(1)"
      ],
      "metadata": {
        "id": "qq9MYx6T-vlN"
      }
    },
    {
      "cell_type": "code",
      "source": [
        "#Had trouble using timeit, so decided to use time instead\n",
        "ant = Ant2D(x_size = 1000000, y_size= 1000000, direction = 0)\n",
        "\n",
        "ttime = 0\n",
        "for i in range (10):\n",
        "  start = time.time ()\n",
        "  ant.step ()\n",
        "  end = time.time ()\n",
        "  ttime += end - start\n",
        "\n",
        "final = ttime / 10\n",
        "\n",
        "print (f\"Average time to run: {final:.7f} seconds\")"
      ],
      "metadata": {
        "colab": {
          "base_uri": "https://localhost:8080/"
        },
        "id": "L5Q23yFe_4mo",
        "outputId": "55f0eb7c-04b1-4638-bb96-bebae0badc72"
      },
      "execution_count": 327,
      "outputs": [
        {
          "output_type": "stream",
          "name": "stdout",
          "text": [
            "Average time to run: 0.0000058 seconds\n"
          ]
        }
      ]
    },
    {
      "cell_type": "markdown",
      "source": [
        "* As we can see above, no matter the input size for x_size and y_size, the time to run stays the same.\n",
        "\n",
        "Note: Time does change somewhat by very very tiny margins, but is not due to model, but due external factors such as caching"
      ],
      "metadata": {
        "id": "Hd2xDlmxDiIh"
      }
    }
  ]
}