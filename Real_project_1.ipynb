{
  "nbformat": 4,
  "nbformat_minor": 0,
  "metadata": {
    "colab": {
      "provenance": [],
      "authorship_tag": "ABX9TyNPKth8hr97/Y8wiIFHbCyi",
      "include_colab_link": true
    },
    "kernelspec": {
      "name": "python3",
      "display_name": "Python 3"
    },
    "language_info": {
      "name": "python"
    }
  },
  "cells": [
    {
      "cell_type": "markdown",
      "metadata": {
        "id": "view-in-github",
        "colab_type": "text"
      },
      "source": [
        "<a href=\"https://colab.research.google.com/github/rdonald03/cap-comp215/blob/main/Real_project_1.ipynb\" target=\"_parent\"><img src=\"https://colab.research.google.com/assets/colab-badge.svg\" alt=\"Open In Colab\"/></a>"
      ]
    },
    {
      "cell_type": "markdown",
      "source": [
        "# Instructions for ER graph / Critical value calculator \n",
        "In the second code cell below, there are two values that may be changed by the user. \"n\", which is the amount of nodes in each graph, which in rough terms, is the size of the graph, and \"iterations\", which is the amount of times a random graph will be generated for a specific value of p.\n",
        "\n",
        "Increasing these values will result in different effects. While \"n\" increases, it will be seen that the critical p value will become vastly smaller. When the iterations value increases, the accuracy of the connection probability will be more precise.\n",
        "\n",
        "\n",
        "Note that increasing either of these will results with longer run times"
      ],
      "metadata": {
        "id": "YlnkNrayHcyM"
      }
    },
    {
      "cell_type": "code",
      "execution_count": 18,
      "metadata": {
        "id": "ibt0rZT4yO0L"
      },
      "outputs": [],
      "source": [
        "import numpy as np\n",
        "import matplotlib.pyplot as plt\n",
        "import random\n",
        "import networkx as nx\n",
        "import statistics\n",
        "import math"
      ]
    },
    {
      "cell_type": "code",
      "source": [
        "iterations = 100\n",
        "n = 30"
      ],
      "metadata": {
        "id": "jdWKHu3yCfVD"
      },
      "execution_count": 25,
      "outputs": []
    },
    {
      "cell_type": "code",
      "source": [
        "def random_create (p):\n",
        "  x = random.random() < p\n",
        "  return x\n",
        "\n",
        "\n",
        "def all_pairs (x):\n",
        "  return ((a, b) for i in range(1, len(x)) for a,b in zip(x, x[i:])) \n",
        "  \n",
        "\n",
        "def random_pairs (x, p):\n",
        "  return (i for i in all_pairs(x) if random_create(p)) \n",
        "\n",
        "def create_random_graph (n, p):\n",
        "  Graph = nx.Graph ()\n",
        "  Nodes = range(n)\n",
        "  Graph.add_nodes_from(Nodes)\n",
        "  Graph.add_edges_from(random_pairs(Nodes, p))\n",
        "  return Graph\n",
        "\n",
        "def reachable (G, start):\n",
        "  seen = set()\n",
        "  stack = [start]\n",
        "  while stack:\n",
        "    node = stack.pop()\n",
        "    if node not in seen:\n",
        "      seen.add(node)\n",
        "      stack.extend(G.neighbors(node))\n",
        "  return seen\n",
        "\n",
        "def is_connected (G):\n",
        "  start = next(iter(G))\n",
        "  reach = reachable(G, start)\n",
        "  return len(reach) == len(G)\n",
        "\n",
        "\n",
        "def prop_connect (n, p, iterations):\n",
        "  graphs = (create_random_graph(n, p)for i in range (iterations))\n",
        "  return statistics.mean((1 if is_connected(G)else 0 for G in graphs))\n",
        "\n",
        "def find_critical (n):\n",
        "  x = {math.log(n) / n}\n",
        "  return x\n",
        "\n",
        "\n",
        "edge_prob = np.logspace(-2.5, 0, 11)\n",
        "connect_prob =[prop_connect(n, p, iterations) for p in edge_prob]\n",
        "\n",
        "\n",
        "plt.title (\"ER graph for N of \"+ str(n))\n",
        "plt.xlabel (\"Probability of an edge\")\n",
        "plt.ylabel ('Probability of complete connection')\n",
        "\n",
        "plt.plot(edge_prob, connect_prob)\n",
        "\n",
        "plt.xscale (\"log\")\n",
        "\n",
        "print (\"The critical p value for this graph is\", (find_critical(n)))\n",
        "\n"
      ],
      "metadata": {
        "id": "ZsEHLQ9zA5Az",
        "colab": {
          "base_uri": "https://localhost:8080/",
          "height": 316
        },
        "outputId": "43e50d2f-c393-4c3f-9f20-75da5056cd36"
      },
      "execution_count": 26,
      "outputs": [
        {
          "output_type": "stream",
          "name": "stdout",
          "text": [
            "The critical p value for this graph is {0.11337324605540518}\n"
          ]
        },
        {
          "output_type": "display_data",
          "data": {
            "text/plain": [
              "<Figure size 432x288 with 1 Axes>"
            ],
            "image/png": "[encoded data removed]"
          },
          "metadata": {
            "needs_background": "light"
          }
        }
      ]
    },
    {
      "cell_type": "markdown",
      "source": [
        "# What python built in function is np.logspace most similar to?\n",
        "The np.logspace function is not entirely similar to a singular built-in function, but the use of multiple built-in functions and opperands can yield the same results. The ** operand, as well as the range function used in a for loop, will allow us to have log spaced array's just as how to np.logspace function works. See example below"
      ],
      "metadata": {
        "id": "uVnQv5NabpEI"
      }
    },
    {
      "cell_type": "code",
      "source": [
        "x = np.logspace (-2.5, 0, 11)\n",
        "print (\"This is the outcome of np.logspace\",(x))\n",
        "\n",
        "\n",
        "def examp ():\n",
        "  starting = 10 ** -2.5\n",
        "  finnished = 1\n",
        "  h = 11\n",
        "  x = []\n",
        "  for i in range (h):\n",
        "    y = starting * (finnished/starting) ** (i/(h-1))\n",
        "    x.append (y)\n",
        "  return x\n",
        "\n",
        "print (\"This is the outcome of pythons built-in functions\",(examp ()))\n"
      ],
      "metadata": {
        "colab": {
          "base_uri": "https://localhost:8080/"
        },
        "id": "0RafRq5cdPZw",
        "outputId": "39152e03-cf00-422c-a1ec-5130bcc4b673"
      },
      "execution_count": 24,
      "outputs": [
        {
          "output_type": "stream",
          "name": "stdout",
          "text": [
            "This is the outcome of np.logspace [0.00316228 0.00562341 0.01       0.01778279 0.03162278 0.05623413\n",
            " 0.1        0.17782794 0.31622777 0.56234133 1.        ]\n",
            "This is the outcome of pythons built-in functions [0.0031622776601683794, 0.005623413251903491, 0.01, 0.017782794100389226, 0.0316227766016838, 0.05623413251903491, 0.09999999999999999, 0.1778279410038922, 0.316227766016838, 0.5623413251903491, 0.9999999999999999]\n"
          ]
        }
      ]
    },
    {
      "cell_type": "markdown",
      "source": [
        "# Why do you think the textbook author chose to use logspace to define x axis values.\n",
        "I believe the primary reason the textbook author used logspace to define the x axis values is because it easily allows us to test a wide range of values for p. Technically, we could just use a loop for p starting at a given number and incrementing upwards towards 1, but this would just be us picking arbitrary numbers, where as logspace gives us a well spaced range of p values that show both the large and small. I also believe the author chose to use logspace as it is much more simple than to create the function on ones own, as seen in the example above.\n"
      ],
      "metadata": {
        "id": "4Ebrpj7OiJwC"
      }
    },
    {
      "cell_type": "markdown",
      "source": [
        "# In the experimental results, we find that “As n increases, the critical value (of p) gets smaller”.\n",
        "This can be explained as since there are now more \"nodes\", the probability of an edge being formed is still the same, yet now since there are many more \"oppurtunities\" for an edge to be formed, it lowers the probability of an entire complete graph forming.\n"
      ],
      "metadata": {
        "id": "MbVoJv_skQ-T"
      }
    }
  ]
}